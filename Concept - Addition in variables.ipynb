{
 "cells": [
  {
   "cell_type": "code",
   "execution_count": 1,
   "metadata": {},
   "outputs": [],
   "source": [
    "# [ ] review & run code for assigning variables & using addition\n",
    "add_two = 34 + 16\n",
    "first_name = \"Alton\"\n",
    "greeting = \"Happy Birthday \" + first_name"
   ]
  },
  {
   "cell_type": "code",
   "execution_count": 2,
   "metadata": {},
   "outputs": [
    {
     "name": "stdout",
     "output_type": "stream",
     "text": [
      "50\n",
      "Happy Birthday Alton\n"
     ]
    }
   ],
   "source": [
    "print(add_two)\n",
    "print(greeting)"
   ]
  },
  {
   "cell_type": "code",
   "execution_count": 3,
   "metadata": {},
   "outputs": [
    {
     "name": "stdout",
     "output_type": "stream",
     "text": [
      "13\n",
      "26\n",
      "\n"
     ]
    }
   ],
   "source": [
    "#  [ ] review & run code for Integer addition in variables and in a print function\n",
    "int_sum = 6 + 7\n",
    "print(int_sum)\n",
    "print(11 + 15)\n",
    "print()"
   ]
  },
  {
   "cell_type": "code",
   "execution_count": 4,
   "metadata": {},
   "outputs": [
    {
     "name": "stdout",
     "output_type": "stream",
     "text": [
      "I do not wear a hat\n",
      "at dinner\n"
     ]
    }
   ],
   "source": [
    "# string addition in variables and in print()function\n",
    "hat_msg = \"I do not wear \" + \"a hat\"  \n",
    "print(hat_msg)\n",
    "print(\"at \" + \"dinner\")"
   ]
  },
  {
   "cell_type": "code",
   "execution_count": 5,
   "metadata": {},
   "outputs": [
    {
     "name": "stdout",
     "output_type": "stream",
     "text": [
      "My favorite food is\n"
     ]
    }
   ],
   "source": [
    "# [ ] perform string addition in the variable named new_msg (add a string to \"my favorite food is \")\n",
    "new_msg = \"My favorite food is\"\n",
    "print(new_msg)"
   ]
  },
  {
   "cell_type": "code",
   "execution_count": 7,
   "metadata": {},
   "outputs": [
    {
     "name": "stdout",
     "output_type": "stream",
     "text": [
      "My favorite food is donuts!\n"
     ]
    }
   ],
   "source": [
    "print(new_msg + \" donuts!\")"
   ]
  },
  {
   "cell_type": "code",
   "execution_count": 8,
   "metadata": {},
   "outputs": [
    {
     "name": "stdout",
     "output_type": "stream",
     "text": [
      "0\n"
     ]
    }
   ],
   "source": [
    "# [ ] perform Integer addition in the variable named new_msg (add 2 or more Integers)\n",
    "new_sum =   0\n",
    "print(new_sum)"
   ]
  },
  {
   "cell_type": "code",
   "execution_count": 9,
   "metadata": {},
   "outputs": [],
   "source": [
    "new_sum = 10"
   ]
  },
  {
   "cell_type": "code",
   "execution_count": 10,
   "metadata": {},
   "outputs": [
    {
     "name": "stdout",
     "output_type": "stream",
     "text": [
      "34\n"
     ]
    }
   ],
   "source": [
    "print(new_sum + 24)"
   ]
  },
  {
   "cell_type": "code",
   "execution_count": 11,
   "metadata": {},
   "outputs": [],
   "source": [
    "# [ ] create and print a new string variable, new_msg_2, that concatenates new_msg + a literal string"
   ]
  },
  {
   "cell_type": "code",
   "execution_count": 12,
   "metadata": {},
   "outputs": [],
   "source": [
    "new_msg_2 = \"donuts\""
   ]
  },
  {
   "cell_type": "code",
   "execution_count": 20,
   "metadata": {},
   "outputs": [
    {
     "name": "stdout",
     "output_type": "stream",
     "text": [
      "My favorite food is donuts but I only eat them in the morning!\n"
     ]
    }
   ],
   "source": [
    "print(new_msg + \" \" + new_msg_2 + \" but I only eat them in the morning!\")"
   ]
  },
  {
   "cell_type": "code",
   "execution_count": null,
   "metadata": {},
   "outputs": [],
   "source": []
  }
 ],
 "metadata": {
  "kernelspec": {
   "display_name": "Python 3",
   "language": "python",
   "name": "python3"
  },
  "language_info": {
   "codemirror_mode": {
    "name": "ipython",
    "version": 3
   },
   "file_extension": ".py",
   "mimetype": "text/x-python",
   "name": "python",
   "nbconvert_exporter": "python",
   "pygments_lexer": "ipython3",
   "version": "3.6.5"
  }
 },
 "nbformat": 4,
 "nbformat_minor": 2
}
